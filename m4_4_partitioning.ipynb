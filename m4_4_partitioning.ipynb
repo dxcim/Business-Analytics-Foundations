{
  "cells": [
    {
      "cell_type": "markdown",
      "metadata": {
        "id": "view-in-github",
        "colab_type": "text"
      },
      "source": [
        "<a href=\"https://colab.research.google.com/github/dxcim/Business-Analytics-Foundations/blob/main/m4_4_partitioning.ipynb\" target=\"_parent\"><img src=\"https://colab.research.google.com/assets/colab-badge.svg\" alt=\"Open In Colab\"/></a>"
      ]
    },
    {
      "cell_type": "markdown",
      "id": "3530b3392af0c838",
      "metadata": {
        "id": "3530b3392af0c838"
      },
      "source": [
        "**Module 4 | Pattern discovery**\n",
        "\n",
        "`m4_4_partitioning.ipynb` | 2025-03-25 11:36\n",
        "\n",
        "# Evaluation fundamentals with Python"
      ]
    },
    {
      "cell_type": "markdown",
      "id": "77770f248ae1affb",
      "metadata": {
        "id": "77770f248ae1affb"
      },
      "source": [
        "PyCaret handles a lot of the complexity of machine learning for you. It can automatically partition your data into training and test sets, and use the correct partition for each step of the modelling process.\n",
        "\n",
        "Let's do another classification task, predicting customer churn. We'll use the same dataset as before, but this time we'll use PyCaret to compare multiple models, tune hyperparameters, and evaluate the final model on the test set."
      ]
    },
    {
      "cell_type": "markdown",
      "id": "727a61e0af437840",
      "metadata": {
        "tags": [
          "remove"
        ],
        "id": "727a61e0af437840"
      },
      "source": [
        "## How to use this notebook\n"
      ]
    },
    {
      "cell_type": "markdown",
      "id": "setup-0",
      "metadata": {
        "id": "setup-0"
      },
      "source": [
        "To run this notebook in Colab, choose **Runtime** from the top menu and then **Run all**. This will set up the notebook and then run all the cells.\n",
        "\n",
        "The first run may take a few minutes to install the required libraries and download the data. Subsequent runs will be faster.\n",
        "\n",
        "You can also run the cells one by one using the play button next to each cell.\n",
        "\n",
        "---\n",
        "\n",
        "This section of the notebook contains code to set up the notebook environment. It installs the required libraries, downloads the data, and sets the display style for charts.\n",
        "\n",
        "After this section of the notebook runs successfully, you can hide the cells in this section. To do this in Colab, choose **View** from the top menu, then **Collapse sections**, or click the downward chevron ⌄ next to the section title.\n",
        "\n",
        "You do not need to understand the code in the \"How to use this notebook\" section to follow the rest of the notebook.\n"
      ]
    },
    {
      "cell_type": "code",
      "execution_count": 1,
      "id": "setup-1",
      "metadata": {
        "id": "setup-1"
      },
      "outputs": [],
      "source": [
        "# install PyCaret\n",
        "# if prompted by Colab, restart the runtime after installing: Runtime -> Restart session\n",
        "\n",
        "%pip install --upgrade --quiet pycaret"
      ]
    },
    {
      "cell_type": "code",
      "execution_count": 2,
      "id": "setup-2",
      "metadata": {
        "id": "setup-2"
      },
      "outputs": [],
      "source": [
        "# download data\n",
        "\n",
        "from urllib.request import urlretrieve\n",
        "from pathlib import Path\n",
        "\n",
        "if not Path(\"/content/customer_churn_numeric.csv\").exists():\n",
        "    urlretrieve(\"https://canvas.uts.edu.au/files/8948624/download?download_frd=1&verifier=9uzGTenHhCcY6WWUfonlnFDwCpeqpmAigJzKsp4U\", \"customer_churn_numeric.csv\")"
      ]
    },
    {
      "cell_type": "code",
      "execution_count": 3,
      "id": "setup-3",
      "metadata": {
        "id": "setup-3"
      },
      "outputs": [],
      "source": [
        "# format figures for display in Canvas\n",
        "\n",
        "import seaborn as sns\n",
        "\n",
        "sns.set_theme(style=\"white\", rc={\"figure.figsize\": (12, 6)})\n",
        "sns.set_context(\"notebook\", font_scale=1.25, rc={\"lines.linewidth\": 2.5})\n",
        "\n",
        "# in Colab, if this cell fails with\n",
        "# \"ValueError: numpy.dtype size changed, may indicate binary incompatibility. Expected 96 from C header, got 88 from PyObject\"\n",
        "# first try restarting the runtime.\n",
        "# Runtime menu -> Restart runtime, or press Ctrl-M then . (period) and confirm. Then re-run this cell.\n",
        "# For Mac-using friends, the keyboard shortcut is ⌘-M then . (period)."
      ]
    },
    {
      "cell_type": "markdown",
      "id": "eb74e633567a4b39",
      "metadata": {
        "id": "eb74e633567a4b39"
      },
      "source": [
        "## Load the data and set up the PyCaret session"
      ]
    },
    {
      "cell_type": "code",
      "execution_count": 4,
      "id": "aa17e897feda008b",
      "metadata": {
        "id": "aa17e897feda008b"
      },
      "outputs": [],
      "source": [
        "import pandas as pd\n",
        "\n",
        "# load the data\n",
        "df = pd.read_csv('/content/customer_churn_numeric.csv')"
      ]
    },
    {
      "cell_type": "markdown",
      "id": "300f7ca39420dd8a",
      "metadata": {
        "id": "300f7ca39420dd8a"
      },
      "source": [
        "For this example there is no separate file containing holdout data."
      ]
    },
    {
      "cell_type": "code",
      "execution_count": 5,
      "id": "faaded5c06941d1a",
      "metadata": {
        "id": "faaded5c06941d1a"
      },
      "outputs": [],
      "source": [
        "# manually keep 20% holdout data\n",
        "\n",
        "holdout = df.sample(frac=0.2, random_state=22804)\n",
        "df.drop(holdout.index, inplace=True)"
      ]
    },
    {
      "cell_type": "markdown",
      "id": "eb3b6d6279b2523a",
      "metadata": {
        "id": "eb3b6d6279b2523a"
      },
      "source": [
        "This time we will specify how much of the data to use for training, and how to partition the data for cross-validation. We'll use 60% of the data for training, and 5-fold cross-validation."
      ]
    },
    {
      "cell_type": "code",
      "execution_count": 6,
      "id": "f9c10b47d580da89",
      "metadata": {
        "id": "f9c10b47d580da89",
        "outputId": "0486c339-94b3-4090-a039-bd2cd93ce046",
        "colab": {
          "base_uri": "https://localhost:8080/",
          "height": 663
        }
      },
      "outputs": [
        {
          "output_type": "display_data",
          "data": {
            "text/plain": [
              "<pandas.io.formats.style.Styler at 0x793cb9819c90>"
            ],
            "text/html": [
              "<style type=\"text/css\">\n",
              "#T_87409_row8_col1 {\n",
              "  background-color: lightgreen;\n",
              "}\n",
              "</style>\n",
              "<table id=\"T_87409\" class=\"dataframe\">\n",
              "  <thead>\n",
              "    <tr>\n",
              "      <th class=\"blank level0\" >&nbsp;</th>\n",
              "      <th id=\"T_87409_level0_col0\" class=\"col_heading level0 col0\" >Description</th>\n",
              "      <th id=\"T_87409_level0_col1\" class=\"col_heading level0 col1\" >Value</th>\n",
              "    </tr>\n",
              "  </thead>\n",
              "  <tbody>\n",
              "    <tr>\n",
              "      <th id=\"T_87409_level0_row0\" class=\"row_heading level0 row0\" >0</th>\n",
              "      <td id=\"T_87409_row0_col0\" class=\"data row0 col0\" >Session id</td>\n",
              "      <td id=\"T_87409_row0_col1\" class=\"data row0 col1\" >22804</td>\n",
              "    </tr>\n",
              "    <tr>\n",
              "      <th id=\"T_87409_level0_row1\" class=\"row_heading level0 row1\" >1</th>\n",
              "      <td id=\"T_87409_row1_col0\" class=\"data row1 col0\" >Target</td>\n",
              "      <td id=\"T_87409_row1_col1\" class=\"data row1 col1\" >Churn</td>\n",
              "    </tr>\n",
              "    <tr>\n",
              "      <th id=\"T_87409_level0_row2\" class=\"row_heading level0 row2\" >2</th>\n",
              "      <td id=\"T_87409_row2_col0\" class=\"data row2 col0\" >Target type</td>\n",
              "      <td id=\"T_87409_row2_col1\" class=\"data row2 col1\" >Binary</td>\n",
              "    </tr>\n",
              "    <tr>\n",
              "      <th id=\"T_87409_level0_row3\" class=\"row_heading level0 row3\" >3</th>\n",
              "      <td id=\"T_87409_row3_col0\" class=\"data row3 col0\" >Original data shape</td>\n",
              "      <td id=\"T_87409_row3_col1\" class=\"data row3 col1\" >(5634, 20)</td>\n",
              "    </tr>\n",
              "    <tr>\n",
              "      <th id=\"T_87409_level0_row4\" class=\"row_heading level0 row4\" >4</th>\n",
              "      <td id=\"T_87409_row4_col0\" class=\"data row4 col0\" >Transformed data shape</td>\n",
              "      <td id=\"T_87409_row4_col1\" class=\"data row4 col1\" >(5634, 20)</td>\n",
              "    </tr>\n",
              "    <tr>\n",
              "      <th id=\"T_87409_level0_row5\" class=\"row_heading level0 row5\" >5</th>\n",
              "      <td id=\"T_87409_row5_col0\" class=\"data row5 col0\" >Transformed train set shape</td>\n",
              "      <td id=\"T_87409_row5_col1\" class=\"data row5 col1\" >(3380, 20)</td>\n",
              "    </tr>\n",
              "    <tr>\n",
              "      <th id=\"T_87409_level0_row6\" class=\"row_heading level0 row6\" >6</th>\n",
              "      <td id=\"T_87409_row6_col0\" class=\"data row6 col0\" >Transformed test set shape</td>\n",
              "      <td id=\"T_87409_row6_col1\" class=\"data row6 col1\" >(2254, 20)</td>\n",
              "    </tr>\n",
              "    <tr>\n",
              "      <th id=\"T_87409_level0_row7\" class=\"row_heading level0 row7\" >7</th>\n",
              "      <td id=\"T_87409_row7_col0\" class=\"data row7 col0\" >Numeric features</td>\n",
              "      <td id=\"T_87409_row7_col1\" class=\"data row7 col1\" >19</td>\n",
              "    </tr>\n",
              "    <tr>\n",
              "      <th id=\"T_87409_level0_row8\" class=\"row_heading level0 row8\" >8</th>\n",
              "      <td id=\"T_87409_row8_col0\" class=\"data row8 col0\" >Preprocess</td>\n",
              "      <td id=\"T_87409_row8_col1\" class=\"data row8 col1\" >True</td>\n",
              "    </tr>\n",
              "    <tr>\n",
              "      <th id=\"T_87409_level0_row9\" class=\"row_heading level0 row9\" >9</th>\n",
              "      <td id=\"T_87409_row9_col0\" class=\"data row9 col0\" >Imputation type</td>\n",
              "      <td id=\"T_87409_row9_col1\" class=\"data row9 col1\" >simple</td>\n",
              "    </tr>\n",
              "    <tr>\n",
              "      <th id=\"T_87409_level0_row10\" class=\"row_heading level0 row10\" >10</th>\n",
              "      <td id=\"T_87409_row10_col0\" class=\"data row10 col0\" >Numeric imputation</td>\n",
              "      <td id=\"T_87409_row10_col1\" class=\"data row10 col1\" >mean</td>\n",
              "    </tr>\n",
              "    <tr>\n",
              "      <th id=\"T_87409_level0_row11\" class=\"row_heading level0 row11\" >11</th>\n",
              "      <td id=\"T_87409_row11_col0\" class=\"data row11 col0\" >Categorical imputation</td>\n",
              "      <td id=\"T_87409_row11_col1\" class=\"data row11 col1\" >mode</td>\n",
              "    </tr>\n",
              "    <tr>\n",
              "      <th id=\"T_87409_level0_row12\" class=\"row_heading level0 row12\" >12</th>\n",
              "      <td id=\"T_87409_row12_col0\" class=\"data row12 col0\" >Fold Generator</td>\n",
              "      <td id=\"T_87409_row12_col1\" class=\"data row12 col1\" >StratifiedKFold</td>\n",
              "    </tr>\n",
              "    <tr>\n",
              "      <th id=\"T_87409_level0_row13\" class=\"row_heading level0 row13\" >13</th>\n",
              "      <td id=\"T_87409_row13_col0\" class=\"data row13 col0\" >Fold Number</td>\n",
              "      <td id=\"T_87409_row13_col1\" class=\"data row13 col1\" >5</td>\n",
              "    </tr>\n",
              "    <tr>\n",
              "      <th id=\"T_87409_level0_row14\" class=\"row_heading level0 row14\" >14</th>\n",
              "      <td id=\"T_87409_row14_col0\" class=\"data row14 col0\" >CPU Jobs</td>\n",
              "      <td id=\"T_87409_row14_col1\" class=\"data row14 col1\" >-1</td>\n",
              "    </tr>\n",
              "    <tr>\n",
              "      <th id=\"T_87409_level0_row15\" class=\"row_heading level0 row15\" >15</th>\n",
              "      <td id=\"T_87409_row15_col0\" class=\"data row15 col0\" >Use GPU</td>\n",
              "      <td id=\"T_87409_row15_col1\" class=\"data row15 col1\" >False</td>\n",
              "    </tr>\n",
              "    <tr>\n",
              "      <th id=\"T_87409_level0_row16\" class=\"row_heading level0 row16\" >16</th>\n",
              "      <td id=\"T_87409_row16_col0\" class=\"data row16 col0\" >Log Experiment</td>\n",
              "      <td id=\"T_87409_row16_col1\" class=\"data row16 col1\" >False</td>\n",
              "    </tr>\n",
              "    <tr>\n",
              "      <th id=\"T_87409_level0_row17\" class=\"row_heading level0 row17\" >17</th>\n",
              "      <td id=\"T_87409_row17_col0\" class=\"data row17 col0\" >Experiment Name</td>\n",
              "      <td id=\"T_87409_row17_col1\" class=\"data row17 col1\" >clf-default-name</td>\n",
              "    </tr>\n",
              "    <tr>\n",
              "      <th id=\"T_87409_level0_row18\" class=\"row_heading level0 row18\" >18</th>\n",
              "      <td id=\"T_87409_row18_col0\" class=\"data row18 col0\" >USI</td>\n",
              "      <td id=\"T_87409_row18_col1\" class=\"data row18 col1\" >c6e2</td>\n",
              "    </tr>\n",
              "  </tbody>\n",
              "</table>\n"
            ]
          },
          "metadata": {}
        },
        {
          "output_type": "execute_result",
          "data": {
            "text/plain": [
              "<pycaret.classification.oop.ClassificationExperiment at 0x793e056a7150>"
            ]
          },
          "metadata": {},
          "execution_count": 6
        }
      ],
      "source": [
        "from pycaret.classification import *\n",
        "\n",
        "# set up a PyCaret classification session to predict customer churn\n",
        "# specify 60% training data and 5-fold cross-validation\n",
        "setup(data=df,\n",
        "      target='Churn',    # target variable\n",
        "      train_size=0.6,    # 60% training\n",
        "      fold=5,            # 5-fold cross-validation\n",
        "      session_id=22804)  # For reproducibility"
      ]
    },
    {
      "cell_type": "markdown",
      "id": "deea01d6b81d9b0a",
      "metadata": {
        "id": "deea01d6b81d9b0a"
      },
      "source": [
        "## Build and evaluate the model\n",
        "\n",
        "To continue exploring, we'll choose a specific model. We'll use a Random Forest model this time.\n",
        "\n",
        "The model performance table has a row for each fold of cross-validation, and the final row is the average performance across all folds. Area under curve (AUC) is a common metric for classification tasks, and it ranges from 0 to 1, with higher values indicating better performance."
      ]
    },
    {
      "cell_type": "code",
      "execution_count": 7,
      "id": "fea3efc216abdebc",
      "metadata": {
        "id": "fea3efc216abdebc",
        "outputId": "29c71fc7-be56-4829-a8c9-92789f93a665",
        "colab": {
          "base_uri": "https://localhost:8080/",
          "height": 300,
          "referenced_widgets": [
            "2f9ffb34bb0049bfbc3b66ae5b40271f",
            "a1961f676c494584aa069fa21c810b13",
            "c33f0a0dd66942c281e220a39c01cd2c",
            "4be9311a00e74785914f58edb1d1229b",
            "8d7440dca53f4de6aa836ba433b14253",
            "4ab2de44e26e43e6810d2e2164ba1ca0",
            "6311028f72cb46d89e68231aad6bb166",
            "891f7912e2754cad80264a1175dd4227",
            "266a7e969c2c44bea6047513cc2a8822",
            "5362fa1aeaee4cf7ab47f1a0aab93266",
            "d51a3bf0760b46ac96484fcfee5b734f"
          ]
        }
      },
      "outputs": [
        {
          "output_type": "display_data",
          "data": {
            "text/plain": [
              "<IPython.core.display.HTML object>"
            ],
            "text/html": []
          },
          "metadata": {}
        },
        {
          "output_type": "display_data",
          "data": {
            "text/plain": [
              "<pandas.io.formats.style.Styler at 0x793cb987f410>"
            ],
            "text/html": [
              "<style type=\"text/css\">\n",
              "#T_70c8f_row5_col0, #T_70c8f_row5_col1, #T_70c8f_row5_col2, #T_70c8f_row5_col3, #T_70c8f_row5_col4, #T_70c8f_row5_col5, #T_70c8f_row5_col6 {\n",
              "  background: yellow;\n",
              "}\n",
              "</style>\n",
              "<table id=\"T_70c8f\" class=\"dataframe\">\n",
              "  <thead>\n",
              "    <tr>\n",
              "      <th class=\"blank level0\" >&nbsp;</th>\n",
              "      <th id=\"T_70c8f_level0_col0\" class=\"col_heading level0 col0\" >Accuracy</th>\n",
              "      <th id=\"T_70c8f_level0_col1\" class=\"col_heading level0 col1\" >AUC</th>\n",
              "      <th id=\"T_70c8f_level0_col2\" class=\"col_heading level0 col2\" >Recall</th>\n",
              "      <th id=\"T_70c8f_level0_col3\" class=\"col_heading level0 col3\" >Prec.</th>\n",
              "      <th id=\"T_70c8f_level0_col4\" class=\"col_heading level0 col4\" >F1</th>\n",
              "      <th id=\"T_70c8f_level0_col5\" class=\"col_heading level0 col5\" >Kappa</th>\n",
              "      <th id=\"T_70c8f_level0_col6\" class=\"col_heading level0 col6\" >MCC</th>\n",
              "    </tr>\n",
              "    <tr>\n",
              "      <th class=\"index_name level0\" >Fold</th>\n",
              "      <th class=\"blank col0\" >&nbsp;</th>\n",
              "      <th class=\"blank col1\" >&nbsp;</th>\n",
              "      <th class=\"blank col2\" >&nbsp;</th>\n",
              "      <th class=\"blank col3\" >&nbsp;</th>\n",
              "      <th class=\"blank col4\" >&nbsp;</th>\n",
              "      <th class=\"blank col5\" >&nbsp;</th>\n",
              "      <th class=\"blank col6\" >&nbsp;</th>\n",
              "    </tr>\n",
              "  </thead>\n",
              "  <tbody>\n",
              "    <tr>\n",
              "      <th id=\"T_70c8f_level0_row0\" class=\"row_heading level0 row0\" >0</th>\n",
              "      <td id=\"T_70c8f_row0_col0\" class=\"data row0 col0\" >0.7825</td>\n",
              "      <td id=\"T_70c8f_row0_col1\" class=\"data row0 col1\" >0.8177</td>\n",
              "      <td id=\"T_70c8f_row0_col2\" class=\"data row0 col2\" >0.4420</td>\n",
              "      <td id=\"T_70c8f_row0_col3\" class=\"data row0 col3\" >0.6349</td>\n",
              "      <td id=\"T_70c8f_row0_col4\" class=\"data row0 col4\" >0.5212</td>\n",
              "      <td id=\"T_70c8f_row0_col5\" class=\"data row0 col5\" >0.3863</td>\n",
              "      <td id=\"T_70c8f_row0_col6\" class=\"data row0 col6\" >0.3969</td>\n",
              "    </tr>\n",
              "    <tr>\n",
              "      <th id=\"T_70c8f_level0_row1\" class=\"row_heading level0 row1\" >1</th>\n",
              "      <td id=\"T_70c8f_row1_col0\" class=\"data row1 col0\" >0.7944</td>\n",
              "      <td id=\"T_70c8f_row1_col1\" class=\"data row1 col1\" >0.8158</td>\n",
              "      <td id=\"T_70c8f_row1_col2\" class=\"data row1 col2\" >0.4751</td>\n",
              "      <td id=\"T_70c8f_row1_col3\" class=\"data row1 col3\" >0.6615</td>\n",
              "      <td id=\"T_70c8f_row1_col4\" class=\"data row1 col4\" >0.5531</td>\n",
              "      <td id=\"T_70c8f_row1_col5\" class=\"data row1 col5\" >0.4242</td>\n",
              "      <td id=\"T_70c8f_row1_col6\" class=\"data row1 col6\" >0.4340</td>\n",
              "    </tr>\n",
              "    <tr>\n",
              "      <th id=\"T_70c8f_level0_row2\" class=\"row_heading level0 row2\" >2</th>\n",
              "      <td id=\"T_70c8f_row2_col0\" class=\"data row2 col0\" >0.7899</td>\n",
              "      <td id=\"T_70c8f_row2_col1\" class=\"data row2 col1\" >0.8377</td>\n",
              "      <td id=\"T_70c8f_row2_col2\" class=\"data row2 col2\" >0.4917</td>\n",
              "      <td id=\"T_70c8f_row2_col3\" class=\"data row2 col3\" >0.6403</td>\n",
              "      <td id=\"T_70c8f_row2_col4\" class=\"data row2 col4\" >0.5562</td>\n",
              "      <td id=\"T_70c8f_row2_col5\" class=\"data row2 col5\" >0.4217</td>\n",
              "      <td id=\"T_70c8f_row2_col6\" class=\"data row2 col6\" >0.4280</td>\n",
              "    </tr>\n",
              "    <tr>\n",
              "      <th id=\"T_70c8f_level0_row3\" class=\"row_heading level0 row3\" >3</th>\n",
              "      <td id=\"T_70c8f_row3_col0\" class=\"data row3 col0\" >0.8033</td>\n",
              "      <td id=\"T_70c8f_row3_col1\" class=\"data row3 col1\" >0.8266</td>\n",
              "      <td id=\"T_70c8f_row3_col2\" class=\"data row3 col2\" >0.5028</td>\n",
              "      <td id=\"T_70c8f_row3_col3\" class=\"data row3 col3\" >0.6791</td>\n",
              "      <td id=\"T_70c8f_row3_col4\" class=\"data row3 col4\" >0.5778</td>\n",
              "      <td id=\"T_70c8f_row3_col5\" class=\"data row3 col5\" >0.4532</td>\n",
              "      <td id=\"T_70c8f_row3_col6\" class=\"data row3 col6\" >0.4619</td>\n",
              "    </tr>\n",
              "    <tr>\n",
              "      <th id=\"T_70c8f_level0_row4\" class=\"row_heading level0 row4\" >4</th>\n",
              "      <td id=\"T_70c8f_row4_col0\" class=\"data row4 col0\" >0.7944</td>\n",
              "      <td id=\"T_70c8f_row4_col1\" class=\"data row4 col1\" >0.8386</td>\n",
              "      <td id=\"T_70c8f_row4_col2\" class=\"data row4 col2\" >0.5414</td>\n",
              "      <td id=\"T_70c8f_row4_col3\" class=\"data row4 col3\" >0.6364</td>\n",
              "      <td id=\"T_70c8f_row4_col4\" class=\"data row4 col4\" >0.5851</td>\n",
              "      <td id=\"T_70c8f_row4_col5\" class=\"data row4 col5\" >0.4496</td>\n",
              "      <td id=\"T_70c8f_row4_col6\" class=\"data row4 col6\" >0.4522</td>\n",
              "    </tr>\n",
              "    <tr>\n",
              "      <th id=\"T_70c8f_level0_row5\" class=\"row_heading level0 row5\" >Mean</th>\n",
              "      <td id=\"T_70c8f_row5_col0\" class=\"data row5 col0\" >0.7929</td>\n",
              "      <td id=\"T_70c8f_row5_col1\" class=\"data row5 col1\" >0.8273</td>\n",
              "      <td id=\"T_70c8f_row5_col2\" class=\"data row5 col2\" >0.4906</td>\n",
              "      <td id=\"T_70c8f_row5_col3\" class=\"data row5 col3\" >0.6504</td>\n",
              "      <td id=\"T_70c8f_row5_col4\" class=\"data row5 col4\" >0.5587</td>\n",
              "      <td id=\"T_70c8f_row5_col5\" class=\"data row5 col5\" >0.4270</td>\n",
              "      <td id=\"T_70c8f_row5_col6\" class=\"data row5 col6\" >0.4346</td>\n",
              "    </tr>\n",
              "    <tr>\n",
              "      <th id=\"T_70c8f_level0_row6\" class=\"row_heading level0 row6\" >Std</th>\n",
              "      <td id=\"T_70c8f_row6_col0\" class=\"data row6 col0\" >0.0067</td>\n",
              "      <td id=\"T_70c8f_row6_col1\" class=\"data row6 col1\" >0.0096</td>\n",
              "      <td id=\"T_70c8f_row6_col2\" class=\"data row6 col2\" >0.0327</td>\n",
              "      <td id=\"T_70c8f_row6_col3\" class=\"data row6 col3\" >0.0172</td>\n",
              "      <td id=\"T_70c8f_row6_col4\" class=\"data row6 col4\" >0.0224</td>\n",
              "      <td id=\"T_70c8f_row6_col5\" class=\"data row6 col5\" >0.0240</td>\n",
              "      <td id=\"T_70c8f_row6_col6\" class=\"data row6 col6\" >0.0225</td>\n",
              "    </tr>\n",
              "  </tbody>\n",
              "</table>\n"
            ]
          },
          "metadata": {}
        },
        {
          "output_type": "display_data",
          "data": {
            "text/plain": [
              "Processing:   0%|          | 0/4 [00:00<?, ?it/s]"
            ],
            "application/vnd.jupyter.widget-view+json": {
              "version_major": 2,
              "version_minor": 0,
              "model_id": "2f9ffb34bb0049bfbc3b66ae5b40271f"
            }
          },
          "metadata": {
            "application/vnd.jupyter.widget-view+json": {
              "colab": {
                "custom_widget_manager": {
                  "url": "https://ssl.gstatic.com/colaboratory-static/widgets/colab-cdn-widget-manager/2b70e893a8ba7c0f/manager.min.js"
                }
              }
            }
          }
        },
        {
          "output_type": "display_data",
          "data": {
            "text/plain": [
              "<IPython.core.display.HTML object>"
            ],
            "text/html": []
          },
          "metadata": {}
        }
      ],
      "source": [
        "# Create specific model\n",
        "\n",
        "model = create_model('rf')  # Random Forest"
      ]
    },
    {
      "cell_type": "markdown",
      "id": "4de3e307b76979f0",
      "metadata": {
        "id": "4de3e307b76979f0"
      },
      "source": [
        "_Area under curve_ hints that there's an actual curve to look at. Let's plot it.\n",
        "\n",
        "The ROC curve is a plot of the true positive rate (sensitivity) against the false positive rate (1 - specificity) for different threshold values. The AUC is the area under the ROC curve, and it's a measure of how well the model can distinguish between classes.\n",
        "\n",
        "ROC is short for \"receiver operating characteristic\". Knowing this will not help you understand ROC curves, but it might come up in pub trivia someday."
      ]
    },
    {
      "cell_type": "code",
      "execution_count": 8,
      "id": "7123e55f7691fb03",
      "metadata": {
        "id": "7123e55f7691fb03",
        "outputId": "4fbeec10-4446-4545-8297-c5e7ad1818b0",
        "colab": {
          "base_uri": "https://localhost:8080/",
          "height": 524
        }
      },
      "outputs": [
        {
          "output_type": "display_data",
          "data": {
            "text/plain": [
              "<IPython.core.display.HTML object>"
            ],
            "text/html": []
          },
          "metadata": {}
        },
        {
          "output_type": "display_data",
          "data": {
            "text/plain": [
              "<Figure size 800x550 with 1 Axes>"
            ],
            "image/png": "[encoded data removed]"
          },
          "metadata": {}
        }
      ],
      "source": [
        "# show ROC curve\n",
        "\n",
        "plot_model(model, plot='auc')"
      ]
    },
    {
      "cell_type": "markdown",
      "id": "2f79754e28ceb21b",
      "metadata": {
        "id": "2f79754e28ceb21b"
      },
      "source": [
        "## Using cross-validation to improve the model\n",
        "\n",
        "The model performance information shows that the Random Forest model has an AUC of 0.83. This is a good starting point, but we can try to improve it by tuning hyperparameters."
      ]
    },
    {
      "cell_type": "code",
      "execution_count": 9,
      "id": "afe2c88259406992",
      "metadata": {
        "id": "afe2c88259406992",
        "outputId": "7c2265bd-4955-40d4-87f7-8fd1aa77d686",
        "colab": {
          "base_uri": "https://localhost:8080/",
          "height": 318,
          "referenced_widgets": [
            "4f0960dc325a423d9ae1324263ec97fc",
            "0bb062e6a28f4e6ebb369a2b68b5287c",
            "6f3b41b749414ca98ede8f8e6553cc0c",
            "5e1c6ffc108c45f4a52b7b0843196af5",
            "7e5b4c9c36ac411b8dc8ff9ab53099b0",
            "23c1c17e5e1841dc857c7ac3e18dbb94",
            "8733c5d4181e47de92aabe03dbe4002c",
            "f4e5228732d744cda4b103bd6e4a7ae3",
            "5a7790231b844176bbb86acb2fb6745d",
            "943ff6b995ae4e5ca2c87dc81a48c08a",
            "a7e2af8e59bd4508bac6192b7132405e"
          ]
        }
      },
      "outputs": [
        {
          "output_type": "display_data",
          "data": {
            "text/plain": [
              "<IPython.core.display.HTML object>"
            ],
            "text/html": []
          },
          "metadata": {}
        },
        {
          "output_type": "display_data",
          "data": {
            "text/plain": [
              "<pandas.io.formats.style.Styler at 0x793cb95d5fd0>"
            ],
            "text/html": [
              "<style type=\"text/css\">\n",
              "#T_a09d8_row5_col0, #T_a09d8_row5_col1, #T_a09d8_row5_col2, #T_a09d8_row5_col3, #T_a09d8_row5_col4, #T_a09d8_row5_col5, #T_a09d8_row5_col6 {\n",
              "  background: yellow;\n",
              "}\n",
              "</style>\n",
              "<table id=\"T_a09d8\" class=\"dataframe\">\n",
              "  <thead>\n",
              "    <tr>\n",
              "      <th class=\"blank level0\" >&nbsp;</th>\n",
              "      <th id=\"T_a09d8_level0_col0\" class=\"col_heading level0 col0\" >Accuracy</th>\n",
              "      <th id=\"T_a09d8_level0_col1\" class=\"col_heading level0 col1\" >AUC</th>\n",
              "      <th id=\"T_a09d8_level0_col2\" class=\"col_heading level0 col2\" >Recall</th>\n",
              "      <th id=\"T_a09d8_level0_col3\" class=\"col_heading level0 col3\" >Prec.</th>\n",
              "      <th id=\"T_a09d8_level0_col4\" class=\"col_heading level0 col4\" >F1</th>\n",
              "      <th id=\"T_a09d8_level0_col5\" class=\"col_heading level0 col5\" >Kappa</th>\n",
              "      <th id=\"T_a09d8_level0_col6\" class=\"col_heading level0 col6\" >MCC</th>\n",
              "    </tr>\n",
              "    <tr>\n",
              "      <th class=\"index_name level0\" >Fold</th>\n",
              "      <th class=\"blank col0\" >&nbsp;</th>\n",
              "      <th class=\"blank col1\" >&nbsp;</th>\n",
              "      <th class=\"blank col2\" >&nbsp;</th>\n",
              "      <th class=\"blank col3\" >&nbsp;</th>\n",
              "      <th class=\"blank col4\" >&nbsp;</th>\n",
              "      <th class=\"blank col5\" >&nbsp;</th>\n",
              "      <th class=\"blank col6\" >&nbsp;</th>\n",
              "    </tr>\n",
              "  </thead>\n",
              "  <tbody>\n",
              "    <tr>\n",
              "      <th id=\"T_a09d8_level0_row0\" class=\"row_heading level0 row0\" >0</th>\n",
              "      <td id=\"T_a09d8_row0_col0\" class=\"data row0 col0\" >0.7914</td>\n",
              "      <td id=\"T_a09d8_row0_col1\" class=\"data row0 col1\" >0.8149</td>\n",
              "      <td id=\"T_a09d8_row0_col2\" class=\"data row0 col2\" >0.4696</td>\n",
              "      <td id=\"T_a09d8_row0_col3\" class=\"data row0 col3\" >0.6538</td>\n",
              "      <td id=\"T_a09d8_row0_col4\" class=\"data row0 col4\" >0.5466</td>\n",
              "      <td id=\"T_a09d8_row0_col5\" class=\"data row0 col5\" >0.4159</td>\n",
              "      <td id=\"T_a09d8_row0_col6\" class=\"data row0 col6\" >0.4255</td>\n",
              "    </tr>\n",
              "    <tr>\n",
              "      <th id=\"T_a09d8_level0_row1\" class=\"row_heading level0 row1\" >1</th>\n",
              "      <td id=\"T_a09d8_row1_col0\" class=\"data row1 col0\" >0.8047</td>\n",
              "      <td id=\"T_a09d8_row1_col1\" class=\"data row1 col1\" >0.8230</td>\n",
              "      <td id=\"T_a09d8_row1_col2\" class=\"data row1 col2\" >0.4862</td>\n",
              "      <td id=\"T_a09d8_row1_col3\" class=\"data row1 col3\" >0.6929</td>\n",
              "      <td id=\"T_a09d8_row1_col4\" class=\"data row1 col4\" >0.5714</td>\n",
              "      <td id=\"T_a09d8_row1_col5\" class=\"data row1 col5\" >0.4500</td>\n",
              "      <td id=\"T_a09d8_row1_col6\" class=\"data row1 col6\" >0.4618</td>\n",
              "    </tr>\n",
              "    <tr>\n",
              "      <th id=\"T_a09d8_level0_row2\" class=\"row_heading level0 row2\" >2</th>\n",
              "      <td id=\"T_a09d8_row2_col0\" class=\"data row2 col0\" >0.8077</td>\n",
              "      <td id=\"T_a09d8_row2_col1\" class=\"data row2 col1\" >0.8682</td>\n",
              "      <td id=\"T_a09d8_row2_col2\" class=\"data row2 col2\" >0.5304</td>\n",
              "      <td id=\"T_a09d8_row2_col3\" class=\"data row2 col3\" >0.6809</td>\n",
              "      <td id=\"T_a09d8_row2_col4\" class=\"data row2 col4\" >0.5963</td>\n",
              "      <td id=\"T_a09d8_row2_col5\" class=\"data row2 col5\" >0.4726</td>\n",
              "      <td id=\"T_a09d8_row2_col6\" class=\"data row2 col6\" >0.4790</td>\n",
              "    </tr>\n",
              "    <tr>\n",
              "      <th id=\"T_a09d8_level0_row3\" class=\"row_heading level0 row3\" >3</th>\n",
              "      <td id=\"T_a09d8_row3_col0\" class=\"data row3 col0\" >0.8062</td>\n",
              "      <td id=\"T_a09d8_row3_col1\" class=\"data row3 col1\" >0.8456</td>\n",
              "      <td id=\"T_a09d8_row3_col2\" class=\"data row3 col2\" >0.4475</td>\n",
              "      <td id=\"T_a09d8_row3_col3\" class=\"data row3 col3\" >0.7232</td>\n",
              "      <td id=\"T_a09d8_row3_col4\" class=\"data row3 col4\" >0.5529</td>\n",
              "      <td id=\"T_a09d8_row3_col5\" class=\"data row3 col5\" >0.4378</td>\n",
              "      <td id=\"T_a09d8_row3_col6\" class=\"data row3 col6\" >0.4584</td>\n",
              "    </tr>\n",
              "    <tr>\n",
              "      <th id=\"T_a09d8_level0_row4\" class=\"row_heading level0 row4\" >4</th>\n",
              "      <td id=\"T_a09d8_row4_col0\" class=\"data row4 col0\" >0.7929</td>\n",
              "      <td id=\"T_a09d8_row4_col1\" class=\"data row4 col1\" >0.8321</td>\n",
              "      <td id=\"T_a09d8_row4_col2\" class=\"data row4 col2\" >0.5359</td>\n",
              "      <td id=\"T_a09d8_row4_col3\" class=\"data row4 col3\" >0.6340</td>\n",
              "      <td id=\"T_a09d8_row4_col4\" class=\"data row4 col4\" >0.5808</td>\n",
              "      <td id=\"T_a09d8_row4_col5\" class=\"data row4 col5\" >0.4446</td>\n",
              "      <td id=\"T_a09d8_row4_col6\" class=\"data row4 col6\" >0.4474</td>\n",
              "    </tr>\n",
              "    <tr>\n",
              "      <th id=\"T_a09d8_level0_row5\" class=\"row_heading level0 row5\" >Mean</th>\n",
              "      <td id=\"T_a09d8_row5_col0\" class=\"data row5 col0\" >0.8006</td>\n",
              "      <td id=\"T_a09d8_row5_col1\" class=\"data row5 col1\" >0.8368</td>\n",
              "      <td id=\"T_a09d8_row5_col2\" class=\"data row5 col2\" >0.4939</td>\n",
              "      <td id=\"T_a09d8_row5_col3\" class=\"data row5 col3\" >0.6770</td>\n",
              "      <td id=\"T_a09d8_row5_col4\" class=\"data row5 col4\" >0.5696</td>\n",
              "      <td id=\"T_a09d8_row5_col5\" class=\"data row5 col5\" >0.4442</td>\n",
              "      <td id=\"T_a09d8_row5_col6\" class=\"data row5 col6\" >0.4544</td>\n",
              "    </tr>\n",
              "    <tr>\n",
              "      <th id=\"T_a09d8_level0_row6\" class=\"row_heading level0 row6\" >Std</th>\n",
              "      <td id=\"T_a09d8_row6_col0\" class=\"data row6 col0\" >0.0070</td>\n",
              "      <td id=\"T_a09d8_row6_col1\" class=\"data row6 col1\" >0.0187</td>\n",
              "      <td id=\"T_a09d8_row6_col2\" class=\"data row6 col2\" >0.0343</td>\n",
              "      <td id=\"T_a09d8_row6_col3\" class=\"data row6 col3\" >0.0310</td>\n",
              "      <td id=\"T_a09d8_row6_col4\" class=\"data row6 col4\" >0.0182</td>\n",
              "      <td id=\"T_a09d8_row6_col5\" class=\"data row6 col5\" >0.0183</td>\n",
              "      <td id=\"T_a09d8_row6_col6\" class=\"data row6 col6\" >0.0177</td>\n",
              "    </tr>\n",
              "  </tbody>\n",
              "</table>\n"
            ]
          },
          "metadata": {}
        },
        {
          "output_type": "display_data",
          "data": {
            "text/plain": [
              "Processing:   0%|          | 0/7 [00:00<?, ?it/s]"
            ],
            "application/vnd.jupyter.widget-view+json": {
              "version_major": 2,
              "version_minor": 0,
              "model_id": "4f0960dc325a423d9ae1324263ec97fc"
            }
          },
          "metadata": {
            "application/vnd.jupyter.widget-view+json": {
              "colab": {
                "custom_widget_manager": {
                  "url": "https://ssl.gstatic.com/colaboratory-static/widgets/colab-cdn-widget-manager/2b70e893a8ba7c0f/manager.min.js"
                }
              }
            }
          }
        },
        {
          "output_type": "stream",
          "name": "stdout",
          "text": [
            "Fitting 5 folds for each of 10 candidates, totalling 50 fits\n"
          ]
        },
        {
          "output_type": "display_data",
          "data": {
            "text/plain": [
              "<IPython.core.display.HTML object>"
            ],
            "text/html": []
          },
          "metadata": {}
        }
      ],
      "source": [
        "# Tune hyperparameters using 5 fold cross-validation\n",
        "# This uses the 60% training data sample made by PyCaret\n",
        "\n",
        "tuned_model = tune_model(model)\n",
        "# technical note: `tune_model` uses X_train for tuning, I checked the source code"
      ]
    },
    {
      "cell_type": "markdown",
      "id": "2581852cff098161",
      "metadata": {
        "id": "2581852cff098161"
      },
      "source": [
        "In this case, tuning the model improved the AUC to 0.84. This is a small improvement, but it's better than nothing."
      ]
    },
    {
      "cell_type": "markdown",
      "id": "c388af6fd42c0fe0",
      "metadata": {
        "id": "c388af6fd42c0fe0"
      },
      "source": [
        "## Evaluating the model on test data\n",
        "\n",
        "It's time to evaluate the final model on the test set. PyCaret will use the best Random Forest model from the tuning step."
      ]
    },
    {
      "cell_type": "code",
      "execution_count": 10,
      "id": "bd5f04d088d7ed1b",
      "metadata": {
        "id": "bd5f04d088d7ed1b",
        "outputId": "cbc726c3-7b6f-4b25-9de4-336ba1bb8cc0",
        "colab": {
          "base_uri": "https://localhost:8080/",
          "height": 81
        }
      },
      "outputs": [
        {
          "output_type": "display_data",
          "data": {
            "text/plain": [
              "<pandas.io.formats.style.Styler at 0x793cb982a0d0>"
            ],
            "text/html": [
              "<style type=\"text/css\">\n",
              "</style>\n",
              "<table id=\"T_44046\" class=\"dataframe\">\n",
              "  <thead>\n",
              "    <tr>\n",
              "      <th class=\"blank level0\" >&nbsp;</th>\n",
              "      <th id=\"T_44046_level0_col0\" class=\"col_heading level0 col0\" >Model</th>\n",
              "      <th id=\"T_44046_level0_col1\" class=\"col_heading level0 col1\" >Accuracy</th>\n",
              "      <th id=\"T_44046_level0_col2\" class=\"col_heading level0 col2\" >AUC</th>\n",
              "      <th id=\"T_44046_level0_col3\" class=\"col_heading level0 col3\" >Recall</th>\n",
              "      <th id=\"T_44046_level0_col4\" class=\"col_heading level0 col4\" >Prec.</th>\n",
              "      <th id=\"T_44046_level0_col5\" class=\"col_heading level0 col5\" >F1</th>\n",
              "      <th id=\"T_44046_level0_col6\" class=\"col_heading level0 col6\" >Kappa</th>\n",
              "      <th id=\"T_44046_level0_col7\" class=\"col_heading level0 col7\" >MCC</th>\n",
              "    </tr>\n",
              "  </thead>\n",
              "  <tbody>\n",
              "    <tr>\n",
              "      <th id=\"T_44046_level0_row0\" class=\"row_heading level0 row0\" >0</th>\n",
              "      <td id=\"T_44046_row0_col0\" class=\"data row0 col0\" >Random Forest Classifier</td>\n",
              "      <td id=\"T_44046_row0_col1\" class=\"data row0 col1\" >0.8035</td>\n",
              "      <td id=\"T_44046_row0_col2\" class=\"data row0 col2\" >0.8476</td>\n",
              "      <td id=\"T_44046_row0_col3\" class=\"data row0 col3\" >0.5083</td>\n",
              "      <td id=\"T_44046_row0_col4\" class=\"data row0 col4\" >0.6777</td>\n",
              "      <td id=\"T_44046_row0_col5\" class=\"data row0 col5\" >0.5809</td>\n",
              "      <td id=\"T_44046_row0_col6\" class=\"data row0 col6\" >0.4559</td>\n",
              "      <td id=\"T_44046_row0_col7\" class=\"data row0 col7\" >0.4640</td>\n",
              "    </tr>\n",
              "  </tbody>\n",
              "</table>\n"
            ]
          },
          "metadata": {}
        }
      ],
      "source": [
        "# Final evaluation on test set\n",
        "\n",
        "test_predictions = predict_model(tuned_model)"
      ]
    },
    {
      "cell_type": "markdown",
      "id": "7c578b8c9b46c4b6",
      "metadata": {
        "id": "7c578b8c9b46c4b6"
      },
      "source": [
        "The final model has the same performance on the test set. This is a good result, and it shows that the model is generalising well to new data."
      ]
    },
    {
      "cell_type": "markdown",
      "id": "2d64539e83ea3af9",
      "metadata": {
        "id": "2d64539e83ea3af9"
      },
      "source": [
        "## Evaluating the model on holdout data\n",
        "\n",
        "PyCaret has evaluated the model using the test set that it made. Now it's our turn to evaluate PyCaret using the holdout data that we made!\n",
        "\n",
        "The model has never seen this data before, so it's a good test of how well it generalises to new data."
      ]
    },
    {
      "cell_type": "code",
      "execution_count": 11,
      "id": "6f83fca2faa2db34",
      "metadata": {
        "id": "6f83fca2faa2db34",
        "outputId": "427c1239-7a5c-4867-e715-f0f44159d3f7",
        "colab": {
          "base_uri": "https://localhost:8080/",
          "height": 81
        }
      },
      "outputs": [
        {
          "output_type": "display_data",
          "data": {
            "text/plain": [
              "<pandas.io.formats.style.Styler at 0x793e051020d0>"
            ],
            "text/html": [
              "<style type=\"text/css\">\n",
              "</style>\n",
              "<table id=\"T_86ad1\" class=\"dataframe\">\n",
              "  <thead>\n",
              "    <tr>\n",
              "      <th class=\"blank level0\" >&nbsp;</th>\n",
              "      <th id=\"T_86ad1_level0_col0\" class=\"col_heading level0 col0\" >Model</th>\n",
              "      <th id=\"T_86ad1_level0_col1\" class=\"col_heading level0 col1\" >Accuracy</th>\n",
              "      <th id=\"T_86ad1_level0_col2\" class=\"col_heading level0 col2\" >AUC</th>\n",
              "      <th id=\"T_86ad1_level0_col3\" class=\"col_heading level0 col3\" >Recall</th>\n",
              "      <th id=\"T_86ad1_level0_col4\" class=\"col_heading level0 col4\" >Prec.</th>\n",
              "      <th id=\"T_86ad1_level0_col5\" class=\"col_heading level0 col5\" >F1</th>\n",
              "      <th id=\"T_86ad1_level0_col6\" class=\"col_heading level0 col6\" >Kappa</th>\n",
              "      <th id=\"T_86ad1_level0_col7\" class=\"col_heading level0 col7\" >MCC</th>\n",
              "    </tr>\n",
              "  </thead>\n",
              "  <tbody>\n",
              "    <tr>\n",
              "      <th id=\"T_86ad1_level0_row0\" class=\"row_heading level0 row0\" >0</th>\n",
              "      <td id=\"T_86ad1_row0_col0\" class=\"data row0 col0\" >Random Forest Classifier</td>\n",
              "      <td id=\"T_86ad1_row0_col1\" class=\"data row0 col1\" >0.7892</td>\n",
              "      <td id=\"T_86ad1_row0_col2\" class=\"data row0 col2\" >0.8321</td>\n",
              "      <td id=\"T_86ad1_row0_col3\" class=\"data row0 col3\" >0.4778</td>\n",
              "      <td id=\"T_86ad1_row0_col4\" class=\"data row0 col4\" >0.6121</td>\n",
              "      <td id=\"T_86ad1_row0_col5\" class=\"data row0 col5\" >0.5367</td>\n",
              "      <td id=\"T_86ad1_row0_col6\" class=\"data row0 col6\" >0.4029</td>\n",
              "      <td id=\"T_86ad1_row0_col7\" class=\"data row0 col7\" >0.4081</td>\n",
              "    </tr>\n",
              "  </tbody>\n",
              "</table>\n"
            ]
          },
          "metadata": {}
        }
      ],
      "source": [
        "# evaluate the model on holdout data\n",
        "\n",
        "_ = predict_model(tuned_model, data=holdout)\n",
        "# sidenote: assigning to _ says \"I don't care about this value\"\n",
        "# this is a common convention in Python\n",
        "# we use it here so the predictions dataframe isn't printed to the output"
      ]
    },
    {
      "cell_type": "markdown",
      "id": "646390a270931575",
      "metadata": {
        "id": "646390a270931575"
      },
      "source": [
        "## Exercises\n",
        "\n",
        "1. How does the model performance on holdout data compare to the test set? What does this tell you about the model?\n",
        "2. Try a different percentage split for training and test data. Does it make any difference?\n",
        "3. Build a model using a different algorithm. How does it compare to the Random Forest model?"
      ]
    }
  ],
  "metadata": {
    "colab": {
      "provenance": [],
      "include_colab_link": true
    },
    "language_info": {
      "name": "python"
    },
    "kernelspec": {
      "name": "python3",
      "display_name": "Python 3"
    },
    "widgets": {
      "application/vnd.jupyter.widget-state+json": {
        "2f9ffb34bb0049bfbc3b66ae5b40271f": {
          "model_module": "@jupyter-widgets/controls",
          "model_name": "HBoxModel",
          "model_module_version": "1.5.0",
          "state": {
            "_dom_classes": [],
            "_model_module": "@jupyter-widgets/controls",
            "_model_module_version": "1.5.0",
            "_model_name": "HBoxModel",
            "_view_count": null,
            "_view_module": "@jupyter-widgets/controls",
            "_view_module_version": "1.5.0",
            "_view_name": "HBoxView",
            "box_style": "",
            "children": [
              "IPY_MODEL_a1961f676c494584aa069fa21c810b13",
              "IPY_MODEL_c33f0a0dd66942c281e220a39c01cd2c",
              "IPY_MODEL_4be9311a00e74785914f58edb1d1229b"
            ],
            "layout": "IPY_MODEL_8d7440dca53f4de6aa836ba433b14253"
          }
        },
        "a1961f676c494584aa069fa21c810b13": {
          "model_module": "@jupyter-widgets/controls",
          "model_name": "HTMLModel",
          "model_module_version": "1.5.0",
          "state": {
            "_dom_classes": [],
            "_model_module": "@jupyter-widgets/controls",
            "_model_module_version": "1.5.0",
            "_model_name": "HTMLModel",
            "_view_count": null,
            "_view_module": "@jupyter-widgets/controls",
            "_view_module_version": "1.5.0",
            "_view_name": "HTMLView",
            "description": "",
            "description_tooltip": null,
            "layout": "IPY_MODEL_4ab2de44e26e43e6810d2e2164ba1ca0",
            "placeholder": "​",
            "style": "IPY_MODEL_6311028f72cb46d89e68231aad6bb166",
            "value": "Processing: 100%"
          }
        },
        "c33f0a0dd66942c281e220a39c01cd2c": {
          "model_module": "@jupyter-widgets/controls",
          "model_name": "FloatProgressModel",
          "model_module_version": "1.5.0",
          "state": {
            "_dom_classes": [],
            "_model_module": "@jupyter-widgets/controls",
            "_model_module_version": "1.5.0",
            "_model_name": "FloatProgressModel",
            "_view_count": null,
            "_view_module": "@jupyter-widgets/controls",
            "_view_module_version": "1.5.0",
            "_view_name": "ProgressView",
            "bar_style": "",
            "description": "",
            "description_tooltip": null,
            "layout": "IPY_MODEL_891f7912e2754cad80264a1175dd4227",
            "max": 4,
            "min": 0,
            "orientation": "horizontal",
            "style": "IPY_MODEL_266a7e969c2c44bea6047513cc2a8822",
            "value": 4
          }
        },
        "4be9311a00e74785914f58edb1d1229b": {
          "model_module": "@jupyter-widgets/controls",
          "model_name": "HTMLModel",
          "model_module_version": "1.5.0",
          "state": {
            "_dom_classes": [],
            "_model_module": "@jupyter-widgets/controls",
            "_model_module_version": "1.5.0",
            "_model_name": "HTMLModel",
            "_view_count": null,
            "_view_module": "@jupyter-widgets/controls",
            "_view_module_version": "1.5.0",
            "_view_name": "HTMLView",
            "description": "",
            "description_tooltip": null,
            "layout": "IPY_MODEL_5362fa1aeaee4cf7ab47f1a0aab93266",
            "placeholder": "​",
            "style": "IPY_MODEL_d51a3bf0760b46ac96484fcfee5b734f",
            "value": " 4/4 [00:10&lt;00:00,  2.51s/it]"
          }
        },
        "8d7440dca53f4de6aa836ba433b14253": {
          "model_module": "@jupyter-widgets/base",
          "model_name": "LayoutModel",
          "model_module_version": "1.2.0",
          "state": {
            "_model_module": "@jupyter-widgets/base",
            "_model_module_version": "1.2.0",
            "_model_name": "LayoutModel",
            "_view_count": null,
            "_view_module": "@jupyter-widgets/base",
            "_view_module_version": "1.2.0",
            "_view_name": "LayoutView",
            "align_content": null,
            "align_items": null,
            "align_self": null,
            "border": null,
            "bottom": null,
            "display": null,
            "flex": null,
            "flex_flow": null,
            "grid_area": null,
            "grid_auto_columns": null,
            "grid_auto_flow": null,
            "grid_auto_rows": null,
            "grid_column": null,
            "grid_gap": null,
            "grid_row": null,
            "grid_template_areas": null,
            "grid_template_columns": null,
            "grid_template_rows": null,
            "height": null,
            "justify_content": null,
            "justify_items": null,
            "left": null,
            "margin": null,
            "max_height": null,
            "max_width": null,
            "min_height": null,
            "min_width": null,
            "object_fit": null,
            "object_position": null,
            "order": null,
            "overflow": null,
            "overflow_x": null,
            "overflow_y": null,
            "padding": null,
            "right": null,
            "top": null,
            "visibility": "hidden",
            "width": null
          }
        },
        "4ab2de44e26e43e6810d2e2164ba1ca0": {
          "model_module": "@jupyter-widgets/base",
          "model_name": "LayoutModel",
          "model_module_version": "1.2.0",
          "state": {
            "_model_module": "@jupyter-widgets/base",
            "_model_module_version": "1.2.0",
            "_model_name": "LayoutModel",
            "_view_count": null,
            "_view_module": "@jupyter-widgets/base",
            "_view_module_version": "1.2.0",
            "_view_name": "LayoutView",
            "align_content": null,
            "align_items": null,
            "align_self": null,
            "border": null,
            "bottom": null,
            "display": null,
            "flex": null,
            "flex_flow": null,
            "grid_area": null,
            "grid_auto_columns": null,
            "grid_auto_flow": null,
            "grid_auto_rows": null,
            "grid_column": null,
            "grid_gap": null,
            "grid_row": null,
            "grid_template_areas": null,
            "grid_template_columns": null,
            "grid_template_rows": null,
            "height": null,
            "justify_content": null,
            "justify_items": null,
            "left": null,
            "margin": null,
            "max_height": null,
            "max_width": null,
            "min_height": null,
            "min_width": null,
            "object_fit": null,
            "object_position": null,
            "order": null,
            "overflow": null,
            "overflow_x": null,
            "overflow_y": null,
            "padding": null,
            "right": null,
            "top": null,
            "visibility": null,
            "width": null
          }
        },
        "6311028f72cb46d89e68231aad6bb166": {
          "model_module": "@jupyter-widgets/controls",
          "model_name": "DescriptionStyleModel",
          "model_module_version": "1.5.0",
          "state": {
            "_model_module": "@jupyter-widgets/controls",
            "_model_module_version": "1.5.0",
            "_model_name": "DescriptionStyleModel",
            "_view_count": null,
            "_view_module": "@jupyter-widgets/base",
            "_view_module_version": "1.2.0",
            "_view_name": "StyleView",
            "description_width": ""
          }
        },
        "891f7912e2754cad80264a1175dd4227": {
          "model_module": "@jupyter-widgets/base",
          "model_name": "LayoutModel",
          "model_module_version": "1.2.0",
          "state": {
            "_model_module": "@jupyter-widgets/base",
            "_model_module_version": "1.2.0",
            "_model_name": "LayoutModel",
            "_view_count": null,
            "_view_module": "@jupyter-widgets/base",
            "_view_module_version": "1.2.0",
            "_view_name": "LayoutView",
            "align_content": null,
            "align_items": null,
            "align_self": null,
            "border": null,
            "bottom": null,
            "display": null,
            "flex": null,
            "flex_flow": null,
            "grid_area": null,
            "grid_auto_columns": null,
            "grid_auto_flow": null,
            "grid_auto_rows": null,
            "grid_column": null,
            "grid_gap": null,
            "grid_row": null,
            "grid_template_areas": null,
            "grid_template_columns": null,
            "grid_template_rows": null,
            "height": null,
            "justify_content": null,
            "justify_items": null,
            "left": null,
            "margin": null,
            "max_height": null,
            "max_width": null,
            "min_height": null,
            "min_width": null,
            "object_fit": null,
            "object_position": null,
            "order": null,
            "overflow": null,
            "overflow_x": null,
            "overflow_y": null,
            "padding": null,
            "right": null,
            "top": null,
            "visibility": null,
            "width": null
          }
        },
        "266a7e969c2c44bea6047513cc2a8822": {
          "model_module": "@jupyter-widgets/controls",
          "model_name": "ProgressStyleModel",
          "model_module_version": "1.5.0",
          "state": {
            "_model_module": "@jupyter-widgets/controls",
            "_model_module_version": "1.5.0",
            "_model_name": "ProgressStyleModel",
            "_view_count": null,
            "_view_module": "@jupyter-widgets/base",
            "_view_module_version": "1.2.0",
            "_view_name": "StyleView",
            "bar_color": null,
            "description_width": ""
          }
        },
        "5362fa1aeaee4cf7ab47f1a0aab93266": {
          "model_module": "@jupyter-widgets/base",
          "model_name": "LayoutModel",
          "model_module_version": "1.2.0",
          "state": {
            "_model_module": "@jupyter-widgets/base",
            "_model_module_version": "1.2.0",
            "_model_name": "LayoutModel",
            "_view_count": null,
            "_view_module": "@jupyter-widgets/base",
            "_view_module_version": "1.2.0",
            "_view_name": "LayoutView",
            "align_content": null,
            "align_items": null,
            "align_self": null,
            "border": null,
            "bottom": null,
            "display": null,
            "flex": null,
            "flex_flow": null,
            "grid_area": null,
            "grid_auto_columns": null,
            "grid_auto_flow": null,
            "grid_auto_rows": null,
            "grid_column": null,
            "grid_gap": null,
            "grid_row": null,
            "grid_template_areas": null,
            "grid_template_columns": null,
            "grid_template_rows": null,
            "height": null,
            "justify_content": null,
            "justify_items": null,
            "left": null,
            "margin": null,
            "max_height": null,
            "max_width": null,
            "min_height": null,
            "min_width": null,
            "object_fit": null,
            "object_position": null,
            "order": null,
            "overflow": null,
            "overflow_x": null,
            "overflow_y": null,
            "padding": null,
            "right": null,
            "top": null,
            "visibility": null,
            "width": null
          }
        },
        "d51a3bf0760b46ac96484fcfee5b734f": {
          "model_module": "@jupyter-widgets/controls",
          "model_name": "DescriptionStyleModel",
          "model_module_version": "1.5.0",
          "state": {
            "_model_module": "@jupyter-widgets/controls",
            "_model_module_version": "1.5.0",
            "_model_name": "DescriptionStyleModel",
            "_view_count": null,
            "_view_module": "@jupyter-widgets/base",
            "_view_module_version": "1.2.0",
            "_view_name": "StyleView",
            "description_width": ""
          }
        },
        "4f0960dc325a423d9ae1324263ec97fc": {
          "model_module": "@jupyter-widgets/controls",
          "model_name": "HBoxModel",
          "model_module_version": "1.5.0",
          "state": {
            "_dom_classes": [],
            "_model_module": "@jupyter-widgets/controls",
            "_model_module_version": "1.5.0",
            "_model_name": "HBoxModel",
            "_view_count": null,
            "_view_module": "@jupyter-widgets/controls",
            "_view_module_version": "1.5.0",
            "_view_name": "HBoxView",
            "box_style": "",
            "children": [
              "IPY_MODEL_0bb062e6a28f4e6ebb369a2b68b5287c",
              "IPY_MODEL_6f3b41b749414ca98ede8f8e6553cc0c",
              "IPY_MODEL_5e1c6ffc108c45f4a52b7b0843196af5"
            ],
            "layout": "IPY_MODEL_7e5b4c9c36ac411b8dc8ff9ab53099b0"
          }
        },
        "0bb062e6a28f4e6ebb369a2b68b5287c": {
          "model_module": "@jupyter-widgets/controls",
          "model_name": "HTMLModel",
          "model_module_version": "1.5.0",
          "state": {
            "_dom_classes": [],
            "_model_module": "@jupyter-widgets/controls",
            "_model_module_version": "1.5.0",
            "_model_name": "HTMLModel",
            "_view_count": null,
            "_view_module": "@jupyter-widgets/controls",
            "_view_module_version": "1.5.0",
            "_view_name": "HTMLView",
            "description": "",
            "description_tooltip": null,
            "layout": "IPY_MODEL_23c1c17e5e1841dc857c7ac3e18dbb94",
            "placeholder": "​",
            "style": "IPY_MODEL_8733c5d4181e47de92aabe03dbe4002c",
            "value": "Processing: 100%"
          }
        },
        "6f3b41b749414ca98ede8f8e6553cc0c": {
          "model_module": "@jupyter-widgets/controls",
          "model_name": "FloatProgressModel",
          "model_module_version": "1.5.0",
          "state": {
            "_dom_classes": [],
            "_model_module": "@jupyter-widgets/controls",
            "_model_module_version": "1.5.0",
            "_model_name": "FloatProgressModel",
            "_view_count": null,
            "_view_module": "@jupyter-widgets/controls",
            "_view_module_version": "1.5.0",
            "_view_name": "ProgressView",
            "bar_style": "",
            "description": "",
            "description_tooltip": null,
            "layout": "IPY_MODEL_f4e5228732d744cda4b103bd6e4a7ae3",
            "max": 7,
            "min": 0,
            "orientation": "horizontal",
            "style": "IPY_MODEL_5a7790231b844176bbb86acb2fb6745d",
            "value": 7
          }
        },
        "5e1c6ffc108c45f4a52b7b0843196af5": {
          "model_module": "@jupyter-widgets/controls",
          "model_name": "HTMLModel",
          "model_module_version": "1.5.0",
          "state": {
            "_dom_classes": [],
            "_model_module": "@jupyter-widgets/controls",
            "_model_module_version": "1.5.0",
            "_model_name": "HTMLModel",
            "_view_count": null,
            "_view_module": "@jupyter-widgets/controls",
            "_view_module_version": "1.5.0",
            "_view_name": "HTMLView",
            "description": "",
            "description_tooltip": null,
            "layout": "IPY_MODEL_943ff6b995ae4e5ca2c87dc81a48c08a",
            "placeholder": "​",
            "style": "IPY_MODEL_a7e2af8e59bd4508bac6192b7132405e",
            "value": " 7/7 [00:44&lt;00:00,  5.29s/it]"
          }
        },
        "7e5b4c9c36ac411b8dc8ff9ab53099b0": {
          "model_module": "@jupyter-widgets/base",
          "model_name": "LayoutModel",
          "model_module_version": "1.2.0",
          "state": {
            "_model_module": "@jupyter-widgets/base",
            "_model_module_version": "1.2.0",
            "_model_name": "LayoutModel",
            "_view_count": null,
            "_view_module": "@jupyter-widgets/base",
            "_view_module_version": "1.2.0",
            "_view_name": "LayoutView",
            "align_content": null,
            "align_items": null,
            "align_self": null,
            "border": null,
            "bottom": null,
            "display": null,
            "flex": null,
            "flex_flow": null,
            "grid_area": null,
            "grid_auto_columns": null,
            "grid_auto_flow": null,
            "grid_auto_rows": null,
            "grid_column": null,
            "grid_gap": null,
            "grid_row": null,
            "grid_template_areas": null,
            "grid_template_columns": null,
            "grid_template_rows": null,
            "height": null,
            "justify_content": null,
            "justify_items": null,
            "left": null,
            "margin": null,
            "max_height": null,
            "max_width": null,
            "min_height": null,
            "min_width": null,
            "object_fit": null,
            "object_position": null,
            "order": null,
            "overflow": null,
            "overflow_x": null,
            "overflow_y": null,
            "padding": null,
            "right": null,
            "top": null,
            "visibility": "hidden",
            "width": null
          }
        },
        "23c1c17e5e1841dc857c7ac3e18dbb94": {
          "model_module": "@jupyter-widgets/base",
          "model_name": "LayoutModel",
          "model_module_version": "1.2.0",
          "state": {
            "_model_module": "@jupyter-widgets/base",
            "_model_module_version": "1.2.0",
            "_model_name": "LayoutModel",
            "_view_count": null,
            "_view_module": "@jupyter-widgets/base",
            "_view_module_version": "1.2.0",
            "_view_name": "LayoutView",
            "align_content": null,
            "align_items": null,
            "align_self": null,
            "border": null,
            "bottom": null,
            "display": null,
            "flex": null,
            "flex_flow": null,
            "grid_area": null,
            "grid_auto_columns": null,
            "grid_auto_flow": null,
            "grid_auto_rows": null,
            "grid_column": null,
            "grid_gap": null,
            "grid_row": null,
            "grid_template_areas": null,
            "grid_template_columns": null,
            "grid_template_rows": null,
            "height": null,
            "justify_content": null,
            "justify_items": null,
            "left": null,
            "margin": null,
            "max_height": null,
            "max_width": null,
            "min_height": null,
            "min_width": null,
            "object_fit": null,
            "object_position": null,
            "order": null,
            "overflow": null,
            "overflow_x": null,
            "overflow_y": null,
            "padding": null,
            "right": null,
            "top": null,
            "visibility": null,
            "width": null
          }
        },
        "8733c5d4181e47de92aabe03dbe4002c": {
          "model_module": "@jupyter-widgets/controls",
          "model_name": "DescriptionStyleModel",
          "model_module_version": "1.5.0",
          "state": {
            "_model_module": "@jupyter-widgets/controls",
            "_model_module_version": "1.5.0",
            "_model_name": "DescriptionStyleModel",
            "_view_count": null,
            "_view_module": "@jupyter-widgets/base",
            "_view_module_version": "1.2.0",
            "_view_name": "StyleView",
            "description_width": ""
          }
        },
        "f4e5228732d744cda4b103bd6e4a7ae3": {
          "model_module": "@jupyter-widgets/base",
          "model_name": "LayoutModel",
          "model_module_version": "1.2.0",
          "state": {
            "_model_module": "@jupyter-widgets/base",
            "_model_module_version": "1.2.0",
            "_model_name": "LayoutModel",
            "_view_count": null,
            "_view_module": "@jupyter-widgets/base",
            "_view_module_version": "1.2.0",
            "_view_name": "LayoutView",
            "align_content": null,
            "align_items": null,
            "align_self": null,
            "border": null,
            "bottom": null,
            "display": null,
            "flex": null,
            "flex_flow": null,
            "grid_area": null,
            "grid_auto_columns": null,
            "grid_auto_flow": null,
            "grid_auto_rows": null,
            "grid_column": null,
            "grid_gap": null,
            "grid_row": null,
            "grid_template_areas": null,
            "grid_template_columns": null,
            "grid_template_rows": null,
            "height": null,
            "justify_content": null,
            "justify_items": null,
            "left": null,
            "margin": null,
            "max_height": null,
            "max_width": null,
            "min_height": null,
            "min_width": null,
            "object_fit": null,
            "object_position": null,
            "order": null,
            "overflow": null,
            "overflow_x": null,
            "overflow_y": null,
            "padding": null,
            "right": null,
            "top": null,
            "visibility": null,
            "width": null
          }
        },
        "5a7790231b844176bbb86acb2fb6745d": {
          "model_module": "@jupyter-widgets/controls",
          "model_name": "ProgressStyleModel",
          "model_module_version": "1.5.0",
          "state": {
            "_model_module": "@jupyter-widgets/controls",
            "_model_module_version": "1.5.0",
            "_model_name": "ProgressStyleModel",
            "_view_count": null,
            "_view_module": "@jupyter-widgets/base",
            "_view_module_version": "1.2.0",
            "_view_name": "StyleView",
            "bar_color": null,
            "description_width": ""
          }
        },
        "943ff6b995ae4e5ca2c87dc81a48c08a": {
          "model_module": "@jupyter-widgets/base",
          "model_name": "LayoutModel",
          "model_module_version": "1.2.0",
          "state": {
            "_model_module": "@jupyter-widgets/base",
            "_model_module_version": "1.2.0",
            "_model_name": "LayoutModel",
            "_view_count": null,
            "_view_module": "@jupyter-widgets/base",
            "_view_module_version": "1.2.0",
            "_view_name": "LayoutView",
            "align_content": null,
            "align_items": null,
            "align_self": null,
            "border": null,
            "bottom": null,
            "display": null,
            "flex": null,
            "flex_flow": null,
            "grid_area": null,
            "grid_auto_columns": null,
            "grid_auto_flow": null,
            "grid_auto_rows": null,
            "grid_column": null,
            "grid_gap": null,
            "grid_row": null,
            "grid_template_areas": null,
            "grid_template_columns": null,
            "grid_template_rows": null,
            "height": null,
            "justify_content": null,
            "justify_items": null,
            "left": null,
            "margin": null,
            "max_height": null,
            "max_width": null,
            "min_height": null,
            "min_width": null,
            "object_fit": null,
            "object_position": null,
            "order": null,
            "overflow": null,
            "overflow_x": null,
            "overflow_y": null,
            "padding": null,
            "right": null,
            "top": null,
            "visibility": null,
            "width": null
          }
        },
        "a7e2af8e59bd4508bac6192b7132405e": {
          "model_module": "@jupyter-widgets/controls",
          "model_name": "DescriptionStyleModel",
          "model_module_version": "1.5.0",
          "state": {
            "_model_module": "@jupyter-widgets/controls",
            "_model_module_version": "1.5.0",
            "_model_name": "DescriptionStyleModel",
            "_view_count": null,
            "_view_module": "@jupyter-widgets/base",
            "_view_module_version": "1.2.0",
            "_view_name": "StyleView",
            "description_width": ""
          }
        }
      }
    }
  },
  "nbformat": 4,
  "nbformat_minor": 5
}